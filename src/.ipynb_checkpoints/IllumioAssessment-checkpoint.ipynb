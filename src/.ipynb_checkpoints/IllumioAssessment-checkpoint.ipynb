{
 "cells": [
  {
   "cell_type": "code",
   "execution_count": 34,
   "id": "85b26dab-b5e2-446a-9776-e42553e1b467",
   "metadata": {},
   "outputs": [],
   "source": [
    "import csv\n",
    "from collections import defaultdict\n",
    "\n",
    "def read_lookup_table(filename):\n",
    "    \"\"\" Read the lookup table from a CSV file. \"\"\"\n",
    "    lookup = {}\n",
    "    with open(filename, mode='r', newline='') as file:\n",
    "        reader = csv.DictReader(file)\n",
    "        for row in reader:\n",
    "            # Ensure protocol names are lowercased for consistent matching\n",
    "            key = (row['dstport'].strip(), row['protocol'].strip().lower())\n",
    "            lookup[key] = row['tag'].strip()\n",
    "    return lookup\n",
    "\n",
    "def generate_output(output_filename, tag_counts, port_protocol_counts):\n",
    "    \"\"\"Generate the output files with tag counts and port/protocol combination counts.\"\"\"\n",
    "    with open(output_filename + '_tag_counts.csv', 'w', newline='') as file:\n",
    "        writer = csv.writer(file)\n",
    "        writer.writerow(['Tag', 'Count'])\n",
    "        for tag, count in sorted(tag_counts.items(), key=lambda x: (-x[1], x[0])):\n",
    "            writer.writerow([tag, count])\n",
    "\n",
    "    with open(output_filename + '_port_protocol_counts.csv', 'w', newline='') as file:\n",
    "        writer = csv.writer(file)\n",
    "        writer.writerow(['Port', 'Protocol', 'Count'])\n",
    "        for key, count in sorted(port_protocol_counts.items(), key=lambda x: (int(x[0][0]), x[1])):\n",
    "            writer.writerow([key[0], key[1], count])\n",
    "\n",
    "def apply_tags_to_logs(logs_filename, lookup, output_filename):\n",
    "    \"\"\"Apply tags to log entries based on dstport and protocol.\"\"\"\n",
    "    tag_counts = defaultdict(int)\n",
    "    port_protocol_counts = defaultdict(int)\n",
    "\n",
    "    with open(logs_filename, 'r', newline='') as infile, open(output_filename + '.csv', 'w', newline='') as outfile:\n",
    "        fieldnames = ['Version', 'AccountID', 'InterfaceID', 'SrcAddr', 'DstAddr', 'SrcPort', 'DstPort', 'Protocol', 'Packets', 'Bytes', 'StartTime', 'EndTime', 'Action', 'LogStatus', 'Tag']\n",
    "        reader = csv.reader(infile, delimiter=' ')\n",
    "        writer = csv.DictWriter(outfile, fieldnames=fieldnames)\n",
    "        writer.writeheader()\n",
    "\n",
    "        for row in reader:\n",
    "            log_entry = {fn: val for fn, val in zip(fieldnames[:-1], row)}\n",
    "            protocol = {'6': 'tcp', '17': 'udp', '1': 'icmp'}.get(log_entry['Protocol'], 'unknown')\n",
    "            key = (log_entry['DstPort'], protocol)\n",
    "            tag = lookup.get(key, 'Untagged')\n",
    "            log_entry['Tag'] = tag\n",
    "            writer.writerow(log_entry)\n",
    "\n",
    "            tag_counts[tag] += 1\n",
    "            port_protocol_counts[key] += 1\n",
    "\n",
    "    generate_output(output_filename, tag_counts, port_protocol_counts)\n",
    "\n",
    "# Load the lookup table\n",
    "lookup_table = read_lookup_table('lookup.txt')\n",
    "# Apply tags to the logs and generate output files\n",
    "apply_tags_to_logs('sampleFlowLogs.txt', lookup_table, 'output')"
   ]
  },
  {
   "cell_type": "code",
   "execution_count": null,
   "id": "0d655333-a7a9-41ca-89b8-94067e4c6cf9",
   "metadata": {},
   "outputs": [],
   "source": []
  }
 ],
 "metadata": {
  "kernelspec": {
   "display_name": "Python 3 (ipykernel)",
   "language": "python",
   "name": "python3"
  },
  "language_info": {
   "codemirror_mode": {
    "name": "ipython",
    "version": 3
   },
   "file_extension": ".py",
   "mimetype": "text/x-python",
   "name": "python",
   "nbconvert_exporter": "python",
   "pygments_lexer": "ipython3",
   "version": "3.11.5"
  }
 },
 "nbformat": 4,
 "nbformat_minor": 5
}
