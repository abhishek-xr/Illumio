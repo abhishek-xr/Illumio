{
 "cells": [
  {
   "cell_type": "code",
   "execution_count": 10,
   "id": "e1c5a4bc-1397-48c5-b31f-a27d194bd998",
   "metadata": {},
   "outputs": [
    {
     "ename": "ModuleNotFoundError",
     "evalue": "No module named 'src'",
     "output_type": "error",
     "traceback": [
      "\u001b[0;31m---------------------------------------------------------------------------\u001b[0m",
      "\u001b[0;31mModuleNotFoundError\u001b[0m                       Traceback (most recent call last)",
      "Cell \u001b[0;32mIn[10], line 2\u001b[0m\n\u001b[1;32m      1\u001b[0m \u001b[38;5;28;01mimport\u001b[39;00m \u001b[38;5;21;01munittest\u001b[39;00m\n\u001b[0;32m----> 2\u001b[0m \u001b[38;5;28;01mfrom\u001b[39;00m \u001b[38;5;21;01msrc\u001b[39;00m\u001b[38;5;21;01m.\u001b[39;00m\u001b[38;5;21;01mlog_tagger\u001b[39;00m \u001b[38;5;28;01mimport\u001b[39;00m LogTagger  \u001b[38;5;66;03m# Assuming log_tagger.py is in src folder\u001b[39;00m\n\u001b[1;32m      3\u001b[0m \u001b[38;5;28;01mimport\u001b[39;00m \u001b[38;5;21;01mos\u001b[39;00m\n\u001b[1;32m      5\u001b[0m \u001b[38;5;28;01mclass\u001b[39;00m \u001b[38;5;21;01mTestLogTagger\u001b[39;00m(unittest\u001b[38;5;241m.\u001b[39mTestCase):\n",
      "\u001b[0;31mModuleNotFoundError\u001b[0m: No module named 'src'"
     ]
    }
   ],
   "source": [
    "import unittest\n",
    "from src.log_tagger import LogTagger  # Assuming log_tagger.py is in src folder\n",
    "import os\n",
    "\n",
    "class TestLogTagger(unittest.TestCase):\n",
    "\n",
    "    def setUp(self):\n",
    "        \"\"\"Set up any test files or variables needed.\"\"\"\n",
    "        self.lookup_filename = 'lookup.txt'\n",
    "        self.logs_filename = 'sampleFlowLogs.txt'\n",
    "        self.output_filename = 'output_test'\n",
    "\n",
    "        # Create a minimal lookup table\n",
    "        with open(self.lookup_filename, 'w') as f:\n",
    "            f.write(\"dstport,protocol,tag\\n\")\n",
    "            f.write(\"80,tcp,HTTP\\n\")\n",
    "            f.write(\"443,tcp,HTTPS\\n\")\n",
    "            f.write(\"53,udp,DNS\\n\")\n",
    "\n",
    "        # Create a minimal flow log file\n",
    "        with open(self.logs_filename, 'w') as f:\n",
    "            f.write(\"2 111122223333 eni-12345678 10.0.0.1 10.0.0.2 12345 80 6 10 100 1623023627 1623023687 ACCEPT OK\\n\")\n",
    "            f.write(\"2 111122223333 eni-12345678 10.0.0.3 10.0.0.4 12345 443 6 10 100 1623023627 1623023687 ACCEPT OK\\n\")\n",
    "            f.write(\"2 111122223333 eni-12345678 10.0.0.5 10.0.0.6 12345 53 17 10 100 1623023627 1623023687 ACCEPT OK\\n\")\n",
    "\n",
    "    def tearDown(self):\n",
    "        \"\"\"Clean up files created during the test.\"\"\"\n",
    "        if os.path.exists(self.lookup_filename):\n",
    "            os.remove(self.lookup_filename)\n",
    "        if os.path.exists(self.logs_filename):\n",
    "            os.remove(self.logs_filename)\n",
    "        for ext in ['.csv', '_tag_counts.csv', '_port_protocol_counts.csv']:\n",
    "            if os.path.exists(self.output_filename + ext):\n",
    "                os.remove(self.output_filename + ext)\n",
    "\n",
    "    def test_lookup_file_not_found(self):\n",
    "        \"\"\"Test handling of missing lookup file.\"\"\"\n",
    "        log_tagger = LogTagger('nonexistent_lookup.txt')\n",
    "        self.assertEqual(log_tagger.lookup, {}, \"Lookup table should be empty if file not found\")\n",
    "\n",
    "    def test_logs_file_not_found(self):\n",
    "        \"\"\"Test handling of missing logs file.\"\"\"\n",
    "        log_tagger = LogTagger(self.lookup_filename)\n",
    "        with self.assertLogs(level='ERROR'):\n",
    "            log_tagger.apply_tags_to_logs('nonexistent_logs.txt', self.output_filename)\n",
    "        self.assertFalse(os.path.exists(self.output_filename + '.csv'), \"Output file should not exist\")\n",
    "\n",
    "    def test_valid_logs_processing(self):\n",
    "        \"\"\"Test processing with valid logs and lookup table.\"\"\"\n",
    "        log_tagger = LogTagger(self.lookup_filename)\n",
    "        log_tagger.apply_tags_to_logs(self.logs_filename, self.output_filename)\n",
    "\n",
    "        # Verify the output file was created\n",
    "        self.assertTrue(os.path.exists(self.output_filename + '.csv'), \"Output file should exist\")\n",
    "\n",
    "        # Verify tag counts and port/protocol counts\n",
    "        with open(self.output_filename + '_tag_counts.csv', 'r') as f:\n",
    "            lines = f.readlines()\n",
    "            self.assertEqual(len(lines), 4)  # Header + 3 tags\n",
    "\n",
    "        with open(self.output_filename + '_port_protocol_counts.csv', 'r') as f:\n",
    "            lines = f.readlines()\n",
    "            self.assertEqual(len(lines), 4)  # Header + 3 port/protocol combinations\n",
    "\n",
    "    def test_unrecognized_protocol(self):\n",
    "        \"\"\"Test handling of unrecognized protocol in log entry.\"\"\"\n",
    "        log_tagger = LogTagger(self.lookup_filename)\n",
    "        with open(self.logs_filename, 'a') as f:\n",
    "            f.write(\"2 111122223333 eni-12345678 10.0.0.7 10.0.0.8 12345 9999 9999 10 100 1623023627 1623023687 ACCEPT OK\\n\")\n",
    "        \n",
    "        log_tagger.apply_tags_to_logs(self.logs_filename, self.output_filename)\n",
    "        \n",
    "        with open(self.output_filename + '_tag_counts.csv', 'r') as f:\n",
    "            lines = f.readlines()\n",
    "            self.assertTrue(any('Untagged' in line for line in lines), \"Log entry with unknown protocol should be tagged as 'Untagged'\")\n",
    "\n",
    "if __name__ == '__main__':\n",
    "    unittest.main()"
   ]
  },
  {
   "cell_type": "code",
   "execution_count": 11,
   "id": "5b78bfe0-a038-4ef5-ac30-57b2bfa410e4",
   "metadata": {},
   "outputs": [
    {
     "ename": "NameError",
     "evalue": "name 'X' is not defined",
     "output_type": "error",
     "traceback": [
      "\u001b[0;31m---------------------------------------------------------------------------\u001b[0m",
      "\u001b[0;31mNameError\u001b[0m                                 Traceback (most recent call last)",
      "Cell \u001b[0;32mIn[11], line 1\u001b[0m\n\u001b[0;32m----> 1\u001b[0m X\n",
      "\u001b[0;31mNameError\u001b[0m: name 'X' is not defined"
     ]
    }
   ],
   "source": [
    "X"
   ]
  },
  {
   "cell_type": "code",
   "execution_count": null,
   "id": "db30d541-acd1-4885-84a2-7822713217a0",
   "metadata": {},
   "outputs": [],
   "source": []
  }
 ],
 "metadata": {
  "kernelspec": {
   "display_name": "Python 3 (ipykernel)",
   "language": "python",
   "name": "python3"
  },
  "language_info": {
   "codemirror_mode": {
    "name": "ipython",
    "version": 3
   },
   "file_extension": ".py",
   "mimetype": "text/x-python",
   "name": "python",
   "nbconvert_exporter": "python",
   "pygments_lexer": "ipython3",
   "version": "3.11.5"
  }
 },
 "nbformat": 4,
 "nbformat_minor": 5
}
